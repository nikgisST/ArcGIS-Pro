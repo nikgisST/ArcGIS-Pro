{
 "cells": [
  {
   "cell_type": "markdown",
   "metadata": {},
   "source": [
    "# Access a map's layers"
   ]
  },
  {
   "cell_type": "code",
   "execution_count": null,
   "metadata": {},
   "outputs": [],
   "source": [
    "import arcpy, os, sys"
   ]
  },
  {
   "cell_type": "code",
   "execution_count": null,
   "metadata": {},
   "outputs": [],
   "source": [
    "aprx = arcpy.mp.ArcGISProject(\"CURRENT\")           #select the cell requesting the current ArcGIS Pro project"
   ]
  },
  {
   "cell_type": "code",
   "execution_count": null,
   "metadata": {},
   "outputs": [],
   "source": [
    "aprx"
   ]
  },
  {
   "cell_type": "code",
   "execution_count": null,
   "metadata": {},
   "outputs": [],
   "source": [
    "m = aprx.listMaps(arcpy.GetParameter(5))[0]"
   ]
  },
  {
   "cell_type": "code",
   "execution_count": null,
   "metadata": {},
   "outputs": [],
   "source": [
    "for lyr in m.listLayers():\n",
    "    print(lyr.name)\n",
    "    #vulnerability\n",
    "    #topographic"
   ]
  },
  {
   "cell_type": "code",
   "execution_count": null,
   "metadata": {},
   "outputs": [],
   "source": [
    "layer = m.listLayers()[0]"
   ]
  },
  {
   "cell_type": "code",
   "execution_count": null,
   "metadata": {},
   "outputs": [],
   "source": [
    "layer.name\n",
    "#vulnerability"
   ]
  },
  {
   "cell_type": "markdown",
   "metadata": {},
   "source": [
    "# Change layer symbology: The next cell contains code for creating a variable named sym that represents the layer's symbology."
   ]
  },
  {
   "cell_type": "code",
   "execution_count": null,
   "metadata": {},
   "outputs": [],
   "source": [
    "sym = layer.symbology\n",
    "\n",
    "\n",
    "sym.renderer.symbol.applySymbolFromGallery(\"Extent Transparent Wide Gray\")\n",
    "sym.renderer.symbol.color = {'RGB' : [255, 0, 0, 60]}\n",
    "sym.renderer.symbol.outlineColor = {'CMYK' : [25, 50, 75, 25, 100]}\n",
    "sym.renderer.symbol.size = 1\n",
    "\n",
    "layer.symbology = sym                                                      #from the Edit menu, choose Merge Cell Below to merge the two cells containing the symbology code"
   ]
  },
  {
   "cell_type": "code",
   "execution_count": null,
   "metadata": {},
   "outputs": [],
   "source": [
    "relpath = (\"C:/EsriTraining/NotebooksBasics\")\n",
    "aprx.saveACopy(os.path.join(relpath, \"Vulnerability.aprx\"))"
   ]
  },
  {
   "cell_type": "code",
   "execution_count": null,
   "metadata": {},
   "outputs": [],
   "source": [
    "# The relpath variable represents the directory where the new project file will be saved when the saveACopy method is called on the ArcGISProject object. \n",
    "# The name for the new project file is also specified as a parameter in the method call.\n",
    "\n",
    "# Run the last cell to save the ArcGIS Pro project as a new project file.\n",
    "\n",
    "# --> The updated ArcGIS Pro project is available in your local file system. The project and the notebook are now available to share with State of Oregon officials.\n",
    "\n",
    "# Exit ArcGIS Pro without saving any changes."
   ]
  }
 ],
 "metadata": {
  "celltoolbar": "Tags",
  "kernelspec": {
   "display_name": "ArcGISPro",
   "language": "Python",
   "name": "python3"
  },
  "language_info": {
   "file_extension": ".py",
   "name": "python",
   "version": "3"
  }
 },
 "nbformat": 4,
 "nbformat_minor": 2
}
